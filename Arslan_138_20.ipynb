{
 "cells": [
  {
   "attachments": {},
   "cell_type": "markdown",
   "metadata": {},
   "source": [
    "Muhammad Arslan\n",
    "Roll No 138.20"
   ]
  },
  {
   "cell_type": "code",
   "execution_count": 3,
   "metadata": {},
   "outputs": [],
   "source": [
    "import numpy as np"
   ]
  },
  {
   "cell_type": "markdown",
   "metadata": {},
   "source": [
    "Question 1: Import the NumPy library and create a NumPy array containing the integers from 1 to 10.\n",
    "Print the array."
   ]
  },
  {
   "cell_type": "code",
   "execution_count": 4,
   "metadata": {},
   "outputs": [
    {
     "name": "stdout",
     "output_type": "stream",
     "text": [
      "[ 1  2  3  4  5  6  7  8  9 10]\n",
      "<class 'numpy.ndarray'>\n"
     ]
    }
   ],
   "source": [
    "arr = np.arange(1,11)\n",
    "print(arr)\n",
    "print(type(arr))"
   ]
  },
  {
   "cell_type": "markdown",
   "metadata": {},
   "source": [
    "Question 2: Create a 3x3 NumPy array filled with zeros and print it"
   ]
  },
  {
   "cell_type": "code",
   "execution_count": 5,
   "metadata": {},
   "outputs": [
    {
     "data": {
      "text/plain": [
       "array([[0., 0., 0.],\n",
       "       [0., 0., 0.],\n",
       "       [0., 0., 0.]])"
      ]
     },
     "execution_count": 5,
     "metadata": {},
     "output_type": "execute_result"
    }
   ],
   "source": [
    "ar1 = np.zeros([3,3])\n",
    "ar1"
   ]
  },
  {
   "attachments": {},
   "cell_type": "markdown",
   "metadata": {},
   "source": [
    "Question 3: Create two NumPy arrays of the same shape and perform element-wise addition on them"
   ]
  },
  {
   "cell_type": "code",
   "execution_count": 6,
   "metadata": {},
   "outputs": [
    {
     "name": "stdout",
     "output_type": "stream",
     "text": [
      "[ 3  7 10 13  6]\n"
     ]
    }
   ],
   "source": [
    "a = np.array([2,3,4,5,6])\n",
    "b = np.array([1,4,6,8,0])\n",
    "c = a+b\n",
    "print(c)"
   ]
  },
  {
   "attachments": {},
   "cell_type": "markdown",
   "metadata": {},
   "source": [
    "Question 4: Create a NumPy array with values from 1 to 10 and calculate the mean, median, and standard\n",
    "deviation of the values"
   ]
  },
  {
   "cell_type": "code",
   "execution_count": 7,
   "metadata": {},
   "outputs": [
    {
     "name": "stdout",
     "output_type": "stream",
     "text": [
      "mean is 5.5, standard deviation is 2.8722813232690143, median is 5.5\n"
     ]
    }
   ],
   "source": [
    "arrr = np.arange(1,11)\n",
    "mn = np.mean(arrr)\n",
    "sd = np.std(arrr)\n",
    "med = np.median(arrr)\n",
    "print(f'mean is {mn}, standard deviation is {sd}, median is {med}')\n"
   ]
  },
  {
   "cell_type": "markdown",
   "metadata": {},
   "source": [
    "Question 5: Create a NumPy array containing the integers from 1 to 20. Slice it to print the even numbers\n",
    "from the array."
   ]
  },
  {
   "cell_type": "code",
   "execution_count": 8,
   "metadata": {},
   "outputs": [
    {
     "name": "stdout",
     "output_type": "stream",
     "text": [
      "[ 1  2  3  4  5  6  7  8  9 10 11 12 13 14 15 16 17 18 19 20]\n",
      "[ 2  4  6  8 10 12 14 16 18 20]\n"
     ]
    }
   ],
   "source": [
    "ab = np.arange(1,21)\n",
    "print(ab)\n",
    "c = ab[ab%2==0]\n",
    "print(c)"
   ]
  },
  {
   "cell_type": "markdown",
   "metadata": {},
   "source": [
    "Question 6: Create a 2D NumPy array and print the last row and last column of the array.\n"
   ]
  },
  {
   "cell_type": "code",
   "execution_count": 9,
   "metadata": {},
   "outputs": [
    {
     "name": "stdout",
     "output_type": "stream",
     "text": [
      "[[2 3 4]\n",
      " [2 3 6]\n",
      " [4 5 7]]\n",
      "last row is [4 5 7], last Column is [4 6 7]\n"
     ]
    }
   ],
   "source": [
    "ac = np.array([[2,3,4],[2,3,6],[4,5,7]])\n",
    "print(ac)\n",
    "lastRow = ac[-1,:]\n",
    "lastColumn = ac[:,-1]\n",
    "print(f'last row is {lastRow}, last Column is {lastColumn}')"
   ]
  },
  {
   "cell_type": "markdown",
   "metadata": {},
   "source": [
    "Question 7: Create a NumPy array with random integers between 1 and 100. Find the maximum and\n",
    "minimum values in the array.\n"
   ]
  },
  {
   "cell_type": "code",
   "execution_count": 10,
   "metadata": {},
   "outputs": [
    {
     "name": "stdout",
     "output_type": "stream",
     "text": [
      "Minimum value is0.0037628410138526025, Maximum Vales is 0.9970413102570325\n"
     ]
    }
   ],
   "source": [
    "ran = np.random.random((1,100))\n",
    "minimum = ran.min()\n",
    "minimum\n",
    "maximum = ran.max()\n",
    "maximum\n",
    "print(f'Minimum value is{minimum}, Maximum Vales is {maximum}')"
   ]
  },
  {
   "cell_type": "markdown",
   "metadata": {},
   "source": [
    "Question 8: Create a NumPy array and find the unique values in the array."
   ]
  },
  {
   "cell_type": "code",
   "execution_count": 25,
   "metadata": {},
   "outputs": [
    {
     "name": "stdout",
     "output_type": "stream",
     "text": [
      "[ 2  3  5  7  8 90]\n"
     ]
    }
   ],
   "source": [
    "av = np.array([2,3,5,7,8,90,3])\n",
    "c = np.unique(av)\n",
    "print(c)"
   ]
  },
  {
   "cell_type": "markdown",
   "metadata": {},
   "source": [
    "Question 9: Create two NumPy matrices and perform matrix multiplication on them"
   ]
  },
  {
   "cell_type": "code",
   "execution_count": 12,
   "metadata": {},
   "outputs": [
    {
     "name": "stdout",
     "output_type": "stream",
     "text": [
      "[ 8 15 24 35 48]\n"
     ]
    }
   ],
   "source": [
    "array1 = np.array([2,3,4,5,6])\n",
    "array2 = np.array([4,5,6,7,8])\n",
    "multiply = array1 * array2\n",
    "print(multiply)"
   ]
  },
  {
   "cell_type": "markdown",
   "metadata": {},
   "source": [
    "Question 10: Create a square NumPy matrix and calculate its determinant."
   ]
  },
  {
   "cell_type": "code",
   "execution_count": 13,
   "metadata": {},
   "outputs": [
    {
     "name": "stdout",
     "output_type": "stream",
     "text": [
      "determinant of square matrix is 0.9999999999999991\n"
     ]
    }
   ],
   "source": [
    "sq = np.array([[2,3],[3,5]])\n",
    "det = np.linalg.det(sq)\n",
    "print(f'determinant of square matrix is {det}')"
   ]
  },
  {
   "cell_type": "markdown",
   "metadata": {},
   "source": [
    "Question 11: Create a NumPy array and add a scalar to all its elements.\n"
   ]
  },
  {
   "cell_type": "code",
   "execution_count": 29,
   "metadata": {},
   "outputs": [
    {
     "name": "stdout",
     "output_type": "stream",
     "text": [
      "[ 4  5  6  8 10 12]\n"
     ]
    }
   ],
   "source": [
    "arr1 = np.array([1,2,3,5,7,9])\n",
    "scalar = 3\n",
    "result = scalar + arr1\n",
    "print(result)"
   ]
  },
  {
   "cell_type": "markdown",
   "metadata": {},
   "source": [
    "Question 12: Create a 2D NumPy array and add a 1D array to each row"
   ]
  },
  {
   "cell_type": "code",
   "execution_count": 15,
   "metadata": {},
   "outputs": [
    {
     "name": "stdout",
     "output_type": "stream",
     "text": [
      "[[6 4 6]\n",
      " [5 7 9]]\n"
     ]
    }
   ],
   "source": [
    "a = np.array([1,2,3])\n",
    "b = np.array([(5,2,3), (4,5,6)])\n",
    "c = a+b\n",
    "print(c)"
   ]
  },
  {
   "cell_type": "markdown",
   "metadata": {},
   "source": [
    "Question 13: Generate a NumPy array of random integers and calculate the mean, median, standard\n",
    "deviation, and variance of the values.\n"
   ]
  },
  {
   "cell_type": "code",
   "execution_count": 16,
   "metadata": {},
   "outputs": [
    {
     "name": "stdout",
     "output_type": "stream",
     "text": [
      "Random integers array mean is 0.4924738454898809, median is 0.4818845000072218, standard devivation is 0.28292579007949886, varinace is 0.08004700269210867 \n"
     ]
    }
   ],
   "source": [
    "ran = np.random.random((1,100))\n",
    "mn = ran.mean()\n",
    "med = np.median(ran)\n",
    "sd = ran.std()\n",
    "var = ran.var()\n",
    "print(f'Random integers array mean is {mn}, median is {med}, standard devivation is {sd}, varinace is {var} ')\n"
   ]
  },
  {
   "cell_type": "markdown",
   "metadata": {},
   "source": [
    "Question 14: Create a NumPy array and find the 75th percentile and cumulative sum of the values."
   ]
  },
  {
   "cell_type": "code",
   "execution_count": 17,
   "metadata": {},
   "outputs": [
    {
     "name": "stdout",
     "output_type": "stream",
     "text": [
      "75th Percentile of array is 7.75, and  cumulative sum of array is [ 2  5 10 17 25 34]\n"
     ]
    }
   ],
   "source": [
    "arr = np.array([2,3,5,7,8,9])\n",
    "per = np.percentile(arr,75)\n",
    "per\n",
    "comp = np.cumsum(arr)\n",
    "comp\n",
    "print(f'75th Percentile of array is {per}, and  cumulative sum of array is {comp}')"
   ]
  },
  {
   "cell_type": "markdown",
   "metadata": {},
   "source": [
    "Question 15: Create a NumPy array and find the absolute difference between each element and the mean\n",
    "of the array."
   ]
  },
  {
   "cell_type": "code",
   "execution_count": 18,
   "metadata": {},
   "outputs": [
    {
     "name": "stdout",
     "output_type": "stream",
     "text": [
      "Mean of array is 5.666666666666667,Absolute differnce is[3.66666667 2.66666667 0.66666667 1.33333333 2.33333333 3.33333333]\n"
     ]
    }
   ],
   "source": [
    "arr = np.array([2,3,5,7,8,9])\n",
    "mn = np.mean(arr)\n",
    "diff = np.abs(arr - mn )\n",
    "print(f'Mean of array is {mn},Absolute differnce is{diff}')"
   ]
  },
  {
   "cell_type": "markdown",
   "metadata": {},
   "source": [
    "Question 16: Generate a NumPy array of random numbers and find the mode of the values."
   ]
  },
  {
   "cell_type": "code",
   "execution_count": 30,
   "metadata": {},
   "outputs": [
    {
     "name": "stdout",
     "output_type": "stream",
     "text": [
      "2\n"
     ]
    }
   ],
   "source": [
    "arr = np.array([2, 3, 2, 1, 5, 2, 6, 2, 7, 2])\n",
    "unique_values, counts = np.unique(arr, return_counts=True)\n",
    "mode_index = np.argmax(counts)\n",
    "mode = unique_values[mode_index]\n",
    "print(mode)\n"
   ]
  },
  {
   "cell_type": "markdown",
   "metadata": {},
   "source": [
    "Question 17: Create a NumPy array and reshape it into a 3x4 matrix"
   ]
  },
  {
   "cell_type": "code",
   "execution_count": 28,
   "metadata": {},
   "outputs": [
    {
     "name": "stdout",
     "output_type": "stream",
     "text": [
      "[[1 2 3 2]\n",
      " [4 6 8 0]\n",
      " [9 4 2 4]]\n"
     ]
    }
   ],
   "source": [
    "az = np.array([1,2,3,2,4,6,8,0,9,4,2,4])\n",
    "ac =az.reshape(3,4)\n",
    "print(ac)"
   ]
  },
  {
   "cell_type": "markdown",
   "metadata": {},
   "source": [
    "Question 18: Create a NumPy array and find the indices of the maximum and minimum values in the array.\n"
   ]
  },
  {
   "cell_type": "code",
   "execution_count": 21,
   "metadata": {},
   "outputs": [
    {
     "name": "stdout",
     "output_type": "stream",
     "text": [
      "Minimum value index is 7, Maximum value index is 4\n"
     ]
    }
   ],
   "source": [
    "arr = np.array([2,3,5,7,9,4,2,1,3,6,8,6,5])\n",
    "min_index = np.argmin(arr)\n",
    "max_index = np.argmax(arr)\n",
    "print(f'Minimum value index is {min_index}, Maximum value index is {max_index}')"
   ]
  },
  {
   "cell_type": "markdown",
   "metadata": {},
   "source": [
    "Question 19: Create a NumPy array and sort it in ascending order"
   ]
  },
  {
   "cell_type": "code",
   "execution_count": 27,
   "metadata": {},
   "outputs": [
    {
     "name": "stdout",
     "output_type": "stream",
     "text": [
      "[0 1 2 2 2 3 4 4 4 6 8 9]\n"
     ]
    }
   ],
   "source": [
    "af = np.array([1,2,3,2,4,6,8,0,9,4,2,4])\n",
    "a =np.sort(af)\n",
    "print(a)"
   ]
  },
  {
   "cell_type": "markdown",
   "metadata": {},
   "source": [
    "Question 20: Create a NumPy array and find the unique values in the array."
   ]
  },
  {
   "cell_type": "code",
   "execution_count": 26,
   "metadata": {},
   "outputs": [
    {
     "name": "stdout",
     "output_type": "stream",
     "text": [
      "[1 2 3 4 5 7 8]\n"
     ]
    }
   ],
   "source": [
    "aa = np.array([1,2,4,5,3,5,3,1,3,5,7,8,4,2,4,2])\n",
    "c = np.unique(aa)\n",
    "print(c)"
   ]
  },
  {
   "cell_type": "markdown",
   "metadata": {},
   "source": [
    "Question 21: Create a NumPy array and find the unique values and their counts."
   ]
  },
  {
   "cell_type": "code",
   "execution_count": 24,
   "metadata": {},
   "outputs": [
    {
     "name": "stdout",
     "output_type": "stream",
     "text": [
      "[1 2 3 4 5 7 8]\n",
      "[2 3 3 3 3 1 1]\n"
     ]
    }
   ],
   "source": [
    "sa = np.array([1,2,4,5,3,5,3,1,3,5,7,8,4,2,4,2])\n",
    "kk , count1 = np.unique(sa, return_counts=True)\n",
    "print(kk)\n",
    "print(count1)"
   ]
  }
 ],
 "metadata": {
  "kernelspec": {
   "display_name": "Python 3",
   "language": "python",
   "name": "python3"
  },
  "language_info": {
   "codemirror_mode": {
    "name": "ipython",
    "version": 3
   },
   "file_extension": ".py",
   "mimetype": "text/x-python",
   "name": "python",
   "nbconvert_exporter": "python",
   "pygments_lexer": "ipython3",
   "version": "3.11.0"
  },
  "orig_nbformat": 4,
  "vscode": {
   "interpreter": {
    "hash": "5238573367df39f7286bb46f9ff5f08f63a01a80960060ce41e3c79b190280fa"
   }
  }
 },
 "nbformat": 4,
 "nbformat_minor": 2
}
